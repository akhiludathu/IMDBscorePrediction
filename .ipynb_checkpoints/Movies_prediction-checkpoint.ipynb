{
 "cells": [
  {
   "cell_type": "code",
   "execution_count": 1,
   "metadata": {
    "collapsed": false
   },
   "outputs": [],
   "source": [
    "# Import necessary packages\n",
    "import pandas as pd\n",
    "import numpy as np\n",
    "\n",
    "from sklearn import metrics\n",
    "from sklearn.model_selection import train_test_split\n",
    "\n",
    "from sklearn.model_selection import GridSearchCV\n",
    "\n",
    "from sklearn.tree import DecisionTreeRegressor\n",
    "from sklearn.ensemble import GradientBoostingRegressor\n",
    "from sklearn.linear_model import Lasso\n",
    "from sklearn.svm import SVR\n",
    "from sklearn.ensemble import RandomForestRegressor\n",
    "from sklearn.linear_model import LogisticRegression\n",
    "\n",
    "from sklearn import metrics"
   ]
  },
  {
   "cell_type": "code",
   "execution_count": 2,
   "metadata": {
    "collapsed": false
   },
   "outputs": [],
   "source": [
    "# Read in the preprocessed dataset\n",
    "movies = pd.read_csv('movies_final_dataset.csv')"
   ]
  },
  {
   "cell_type": "code",
   "execution_count": 3,
   "metadata": {
    "collapsed": true
   },
   "outputs": [],
   "source": [
    "scores = movies.pop('imdb_score')"
   ]
  },
  {
   "cell_type": "code",
   "execution_count": 4,
   "metadata": {
    "collapsed": true
   },
   "outputs": [],
   "source": [
    "# Split dataset into test and train dataset\n",
    "X_train, X_test, y_train, y_test = train_test_split(movies,scores,test_size = 0.4, random_state = 11)"
   ]
  },
  {
   "cell_type": "code",
   "execution_count": 5,
   "metadata": {
    "collapsed": false
   },
   "outputs": [],
   "source": [
    "# Creating parameter grids for the models to be tested\n",
    "paramsDT = [{'max_depth' : [2,4,8,16,32,64,128,256] , 'min_samples_split' :[2,4,8,16,32],'max_features':[4,8,16,32,64,128,256,512]}] \n",
    "paramsGBM = [{'learning_rate': [0.1,0.2,0.3], 'n_estimators': [50,100,150], 'min_samples_split' : [2,4,8,16], 'max_depth':[2,3,4,5,6,7], 'alpha':[0.7,0.8,0.9],'verbose':[1]}]\n",
    "paramsLasso = [{'alpha' :[0.8,0.9,1.0], 'max_iter':[512,1024,2048],'tol':[0.001,0.005,0.0001,0.0005,0.00001]}]\n",
    "paramsSVR = [{'tol':[0.01,0.05,0.001,0.005,0.0001], 'C':[0.5,1.0,1.5,2.0]}]\n",
    "paramsRF = [{'n_estimators':[4,8,16], 'min_samples_split':[2,4,8]}]"
   ]
  },
  {
   "cell_type": "code",
   "execution_count": 6,
   "metadata": {
    "collapsed": true
   },
   "outputs": [],
   "source": [
    "# Inintialize evaluation metric\n",
    "from sklearn.metrics import make_scorer, mean_squared_error\n",
    "mse = make_scorer(mean_squared_error)"
   ]
  },
  {
   "cell_type": "code",
   "execution_count": 7,
   "metadata": {
    "collapsed": false
   },
   "outputs": [
    {
     "name": "stdout",
     "output_type": "stream",
     "text": [
      "Fitting 3 folds for each of 648 candidates, totalling 1944 fits\n"
     ]
    },
    {
     "name": "stderr",
     "output_type": "stream",
     "text": [
      "[Parallel(n_jobs=4)]: Done  33 tasks      | elapsed:   15.3s\n",
      "[Parallel(n_jobs=4)]: Done 154 tasks      | elapsed:  1.5min\n",
      "[Parallel(n_jobs=4)]: Done 357 tasks      | elapsed:  3.6min\n",
      "[Parallel(n_jobs=4)]: Done 640 tasks      | elapsed:  6.7min\n",
      "[Parallel(n_jobs=4)]: Done 1005 tasks      | elapsed: 10.4min\n",
      "[Parallel(n_jobs=4)]: Done 1450 tasks      | elapsed: 15.0min\n",
      "[Parallel(n_jobs=4)]: Done 1944 out of 1944 | elapsed: 20.2min finished\n"
     ]
    },
    {
     "name": "stdout",
     "output_type": "stream",
     "text": [
      "      Iter       Train Loss   Remaining Time \n",
      "         1           1.1145            0.98s\n",
      "         2           1.0705            0.90s\n",
      "         3           1.0333            0.88s\n",
      "         4           1.0028            0.84s\n",
      "         5           0.9759            0.83s\n",
      "         6           0.9540            0.81s\n",
      "         7           0.9337            0.80s\n",
      "         8           0.9165            0.77s\n",
      "         9           0.8997            0.76s\n",
      "        10           0.8861            0.74s\n",
      "        20           0.7893            0.58s\n",
      "        30           0.7331            0.39s\n",
      "        40           0.6907            0.19s\n",
      "        50           0.6582            0.00s\n"
     ]
    },
    {
     "data": {
      "text/plain": [
       "0.8445091897907957"
      ]
     },
     "execution_count": 7,
     "metadata": {},
     "output_type": "execute_result"
    }
   ],
   "source": [
    "# Fit and test accuracy for Gradient Boosting Regressor\n",
    "alg1 = GridSearchCV(estimator = GradientBoostingRegressor(random_state =5), param_grid =paramsGBM,n_jobs=4,verbose=2,scoring = mse)\n",
    "alg1.fit(X_train, y_train)\n",
    "y_pred = alg1.predict(X_test)\n",
    "metrics.mean_squared_error(y_pred,y_test)"
   ]
  },
  {
   "cell_type": "code",
   "execution_count": 8,
   "metadata": {
    "collapsed": false
   },
   "outputs": [
    {
     "name": "stdout",
     "output_type": "stream",
     "text": [
      "Fitting 3 folds for each of 320 candidates, totalling 960 fits\n"
     ]
    },
    {
     "name": "stderr",
     "output_type": "stream",
     "text": [
      "[Parallel(n_jobs=4)]: Done  33 tasks      | elapsed:    4.0s\n",
      "[Parallel(n_jobs=4)]: Done 154 tasks      | elapsed:    7.9s\n",
      "[Parallel(n_jobs=4)]: Done 357 tasks      | elapsed:   14.9s\n",
      "[Parallel(n_jobs=4)]: Done 640 tasks      | elapsed:   24.4s\n",
      "[Parallel(n_jobs=4)]: Done 960 out of 960 | elapsed:   35.0s finished\n"
     ]
    },
    {
     "data": {
      "text/plain": [
       "1.6032875894988068"
      ]
     },
     "execution_count": 8,
     "metadata": {},
     "output_type": "execute_result"
    }
   ],
   "source": [
    "# Fit and test accuracy for Decision Tree\n",
    "alg2 = GridSearchCV(estimator = DecisionTreeRegressor(), param_grid =paramsDT,n_jobs=4,verbose=2,scoring = mse)\n",
    "alg2.fit(X_train, y_train)\n",
    "y_pred = alg2.predict(X_test)\n",
    "metrics.mean_squared_error(y_pred,y_test)"
   ]
  },
  {
   "cell_type": "code",
   "execution_count": 9,
   "metadata": {
    "collapsed": false
   },
   "outputs": [
    {
     "name": "stdout",
     "output_type": "stream",
     "text": [
      "Fitting 3 folds for each of 45 candidates, totalling 135 fits\n"
     ]
    },
    {
     "name": "stderr",
     "output_type": "stream",
     "text": [
      "[Parallel(n_jobs=4)]: Done  33 tasks      | elapsed:    4.7s\n",
      "[Parallel(n_jobs=4)]: Done 135 out of 135 | elapsed:    8.6s finished\n"
     ]
    },
    {
     "data": {
      "text/plain": [
       "1.3432175873171397"
      ]
     },
     "execution_count": 9,
     "metadata": {},
     "output_type": "execute_result"
    }
   ],
   "source": [
    "# Fit and test accuracy for Lasso regression\n",
    "alg3 = GridSearchCV(estimator = Lasso(), param_grid =paramsLasso,n_jobs=4,verbose=2,scoring = mse)\n",
    "alg3.fit(X_train, y_train)\n",
    "y_pred = alg3.predict(X_test)\n",
    "metrics.mean_squared_error(y_pred,y_test)"
   ]
  },
  {
   "cell_type": "code",
   "execution_count": 10,
   "metadata": {
    "collapsed": false
   },
   "outputs": [
    {
     "name": "stdout",
     "output_type": "stream",
     "text": [
      "Fitting 3 folds for each of 20 candidates, totalling 60 fits\n"
     ]
    },
    {
     "name": "stderr",
     "output_type": "stream",
     "text": [
      "[Parallel(n_jobs=4)]: Done  33 tasks      | elapsed:  1.4min\n",
      "[Parallel(n_jobs=4)]: Done  60 out of  60 | elapsed:  2.3min finished\n"
     ]
    },
    {
     "data": {
      "text/plain": [
       "1.3760574817026985"
      ]
     },
     "execution_count": 10,
     "metadata": {},
     "output_type": "execute_result"
    }
   ],
   "source": [
    "# Fit and test accuracy for Support Vector Regressor\n",
    "alg4 = GridSearchCV(estimator = SVR(), param_grid =paramsSVR,n_jobs=4,verbose=2,scoring = mse)\n",
    "alg4.fit(X_train, y_train)\n",
    "y_pred = alg4.predict(X_test)\n",
    "metrics.mean_squared_error(y_pred,y_test)"
   ]
  },
  {
   "cell_type": "code",
   "execution_count": 11,
   "metadata": {
    "collapsed": false
   },
   "outputs": [
    {
     "name": "stdout",
     "output_type": "stream",
     "text": [
      "Fitting 3 folds for each of 9 candidates, totalling 27 fits\n"
     ]
    },
    {
     "name": "stderr",
     "output_type": "stream",
     "text": [
      "[Parallel(n_jobs=4)]: Done  27 out of  27 | elapsed:    6.0s finished\n"
     ]
    },
    {
     "data": {
      "text/plain": [
       "0.86204355608591876"
      ]
     },
     "execution_count": 11,
     "metadata": {},
     "output_type": "execute_result"
    }
   ],
   "source": [
    "# Fit and test accuracy for Random forest model\n",
    "alg5 = GridSearchCV(estimator = RandomForestRegressor(), param_grid =paramsRF,n_jobs=4,verbose=2,scoring = mse)\n",
    "alg5.fit(X_train, y_train)\n",
    "y_pred = alg5.predict(X_test)\n",
    "metrics.mean_squared_error(y_pred,y_test)"
   ]
  },
  {
   "cell_type": "code",
   "execution_count": 30,
   "metadata": {
    "collapsed": false
   },
   "outputs": [],
   "source": [
    "# The differnece between testing error and training error is least for the Gradient Boosting Method\n",
    "alg_final = GradientBoostingRegressor(alpha=0.9,max_depth=2, max_features=None,\n",
    "             min_samples_leaf=1, min_samples_split=2, n_estimators=100,random_state=5,verbose=1)"
   ]
  },
  {
   "cell_type": "code",
   "execution_count": 31,
   "metadata": {
    "collapsed": false
   },
   "outputs": [
    {
     "name": "stdout",
     "output_type": "stream",
     "text": [
      "      Iter       Train Loss   Remaining Time \n",
      "         1           1.1145            1.94s\n",
      "         2           1.0705            1.77s\n",
      "         3           1.0333            1.77s\n",
      "         4           1.0028            1.70s\n",
      "         5           0.9759            1.71s\n",
      "         6           0.9540            1.70s\n",
      "         7           0.9337            1.72s\n",
      "         8           0.9165            1.70s\n",
      "         9           0.8997            1.70s\n",
      "        10           0.8861            1.70s\n",
      "        20           0.7893            1.61s\n",
      "        30           0.7331            1.31s\n",
      "        40           0.6906            1.13s\n",
      "        50           0.6582            0.94s\n",
      "        60           0.6334            0.77s\n",
      "        70           0.6138            0.58s\n",
      "        80           0.5977            0.38s\n",
      "        90           0.5816            0.19s\n",
      "       100           0.5695            0.00s\n"
     ]
    }
   ],
   "source": [
    "# Compute train and test mean squared error for train and test dataset \n",
    "alg_final.fit(X_train, y_train)\n",
    "y_pred = alg5.predict(X_test)\n",
    "test_error = metrics.mean_squared_error(y_pred,y_test)\n",
    "y_pred = alg5.predict(X_train)\n",
    "train_error = metrics.mean_squared_error(y_pred,y_train)"
   ]
  },
  {
   "cell_type": "code",
   "execution_count": 32,
   "metadata": {
    "collapsed": false
   },
   "outputs": [
    {
     "name": "stdout",
     "output_type": "stream",
     "text": [
      "Training error:  0.182561703822\n",
      "Test error 0.862043556086\n"
     ]
    }
   ],
   "source": [
    "print(\"Training error: \",train_error)\n",
    "print(\"Test error\", test_error)"
   ]
  },
  {
   "cell_type": "code",
   "execution_count": null,
   "metadata": {
    "collapsed": true
   },
   "outputs": [],
   "source": []
  }
 ],
 "metadata": {
  "anaconda-cloud": {},
  "kernelspec": {
   "display_name": "Python [Root]",
   "language": "python",
   "name": "Python [Root]"
  },
  "language_info": {
   "codemirror_mode": {
    "name": "ipython",
    "version": 3
   },
   "file_extension": ".py",
   "mimetype": "text/x-python",
   "name": "python",
   "nbconvert_exporter": "python",
   "pygments_lexer": "ipython3",
   "version": "3.5.2"
  }
 },
 "nbformat": 4,
 "nbformat_minor": 0
}
