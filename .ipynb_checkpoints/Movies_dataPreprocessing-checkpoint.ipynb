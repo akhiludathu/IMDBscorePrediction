{
 "cells": [
  {
   "cell_type": "code",
   "execution_count": 1,
   "metadata": {
    "collapsed": false
   },
   "outputs": [],
   "source": [
    "# Import necessary packages\n",
    "import numpy as np\n",
    "import pandas as pd\n",
    "import matplotlib.pyplot as plt\n",
    "import seaborn as sns\n",
    "%matplotlib inline\n",
    "import matplotlib\n",
    "\n",
    "matplotlib.rcParams['figure.figsize'] = (16.0, 9.0)\n"
   ]
  },
  {
   "cell_type": "code",
   "execution_count": 2,
   "metadata": {
    "collapsed": false
   },
   "outputs": [],
   "source": [
    "# Read the dataset\n",
    "movies = pd.read_csv(\"movie_data_for_assignment.csv\")"
   ]
  },
  {
   "cell_type": "code",
   "execution_count": 3,
   "metadata": {
    "collapsed": false
   },
   "outputs": [
    {
     "data": {
      "text/plain": [
       "movie_title                   object\n",
       "color                         object\n",
       "director_name                 object\n",
       "num_critic_for_reviews       float64\n",
       "duration                     float64\n",
       "director_facebook_likes      float64\n",
       "actor_3_facebook_likes       float64\n",
       "actor_2_name                  object\n",
       "actor_1_facebook_likes       float64\n",
       "gross                        float64\n",
       "genres                        object\n",
       "actor_1_name                  object\n",
       "num_voted_users                int64\n",
       "cast_total_facebook_likes      int64\n",
       "actor_3_name                  object\n",
       "facenumber_in_poster         float64\n",
       "plot_keywords                 object\n",
       "movie_imdb_link               object\n",
       "num_user_for_reviews         float64\n",
       "language                      object\n",
       "country                       object\n",
       "content_rating                object\n",
       "budget                       float64\n",
       "title_year                   float64\n",
       "actor_2_facebook_likes       float64\n",
       "aspect_ratio                 float64\n",
       "movie_facebook_likes           int64\n",
       "imdb_score                   float64\n",
       "dtype: object"
      ]
     },
     "execution_count": 3,
     "metadata": {},
     "output_type": "execute_result"
    }
   ],
   "source": [
    "movies.dtypes "
   ]
  },
  {
   "cell_type": "code",
   "execution_count": 4,
   "metadata": {
    "collapsed": false
   },
   "outputs": [
    {
     "data": {
      "text/html": [
       "<div>\n",
       "<table border=\"1\" class=\"dataframe\">\n",
       "  <thead>\n",
       "    <tr style=\"text-align: right;\">\n",
       "      <th></th>\n",
       "      <th>movie_title</th>\n",
       "      <th>color</th>\n",
       "      <th>director_name</th>\n",
       "      <th>num_critic_for_reviews</th>\n",
       "      <th>duration</th>\n",
       "      <th>director_facebook_likes</th>\n",
       "      <th>actor_3_facebook_likes</th>\n",
       "      <th>actor_2_name</th>\n",
       "      <th>actor_1_facebook_likes</th>\n",
       "      <th>gross</th>\n",
       "      <th>...</th>\n",
       "      <th>num_user_for_reviews</th>\n",
       "      <th>language</th>\n",
       "      <th>country</th>\n",
       "      <th>content_rating</th>\n",
       "      <th>budget</th>\n",
       "      <th>title_year</th>\n",
       "      <th>actor_2_facebook_likes</th>\n",
       "      <th>aspect_ratio</th>\n",
       "      <th>movie_facebook_likes</th>\n",
       "      <th>imdb_score</th>\n",
       "    </tr>\n",
       "  </thead>\n",
       "  <tbody>\n",
       "    <tr>\n",
       "      <th>0</th>\n",
       "      <td>Stuart Little</td>\n",
       "      <td>Color</td>\n",
       "      <td>Rob Minkoff</td>\n",
       "      <td>101.0</td>\n",
       "      <td>84.0</td>\n",
       "      <td>50.0</td>\n",
       "      <td>692.0</td>\n",
       "      <td>Nathan Lane</td>\n",
       "      <td>979.0</td>\n",
       "      <td>140015224.0</td>\n",
       "      <td>...</td>\n",
       "      <td>179.0</td>\n",
       "      <td>English</td>\n",
       "      <td>Germany</td>\n",
       "      <td>PG</td>\n",
       "      <td>133000000.0</td>\n",
       "      <td>1999.0</td>\n",
       "      <td>886.0</td>\n",
       "      <td>1.85</td>\n",
       "      <td>0</td>\n",
       "      <td>5.9</td>\n",
       "    </tr>\n",
       "    <tr>\n",
       "      <th>1</th>\n",
       "      <td>Crash</td>\n",
       "      <td>Color</td>\n",
       "      <td>Paul Haggis</td>\n",
       "      <td>287.0</td>\n",
       "      <td>115.0</td>\n",
       "      <td>549.0</td>\n",
       "      <td>911.0</td>\n",
       "      <td>Loretta Devine</td>\n",
       "      <td>3000.0</td>\n",
       "      <td>54557348.0</td>\n",
       "      <td>...</td>\n",
       "      <td>1624.0</td>\n",
       "      <td>English</td>\n",
       "      <td>Germany</td>\n",
       "      <td>R</td>\n",
       "      <td>6500000.0</td>\n",
       "      <td>2004.0</td>\n",
       "      <td>912.0</td>\n",
       "      <td>2.35</td>\n",
       "      <td>18000</td>\n",
       "      <td>7.9</td>\n",
       "    </tr>\n",
       "    <tr>\n",
       "      <th>2</th>\n",
       "      <td>Ghost Rider: Spirit of Vengeance</td>\n",
       "      <td>Color</td>\n",
       "      <td>Mark Neveldine</td>\n",
       "      <td>287.0</td>\n",
       "      <td>96.0</td>\n",
       "      <td>83.0</td>\n",
       "      <td>1000.0</td>\n",
       "      <td>Spencer Wilding</td>\n",
       "      <td>12000.0</td>\n",
       "      <td>51774002.0</td>\n",
       "      <td>...</td>\n",
       "      <td>331.0</td>\n",
       "      <td>English</td>\n",
       "      <td>USA</td>\n",
       "      <td>PG-13</td>\n",
       "      <td>57000000.0</td>\n",
       "      <td>2011.0</td>\n",
       "      <td>1000.0</td>\n",
       "      <td>2.35</td>\n",
       "      <td>18000</td>\n",
       "      <td>4.3</td>\n",
       "    </tr>\n",
       "    <tr>\n",
       "      <th>3</th>\n",
       "      <td>Gettysburg</td>\n",
       "      <td>Color</td>\n",
       "      <td>Ron Maxwell</td>\n",
       "      <td>22.0</td>\n",
       "      <td>271.0</td>\n",
       "      <td>33.0</td>\n",
       "      <td>251.0</td>\n",
       "      <td>William Morgan Sheppard</td>\n",
       "      <td>854.0</td>\n",
       "      <td>10769960.0</td>\n",
       "      <td>...</td>\n",
       "      <td>256.0</td>\n",
       "      <td>English</td>\n",
       "      <td>USA</td>\n",
       "      <td>PG</td>\n",
       "      <td>25000000.0</td>\n",
       "      <td>1993.0</td>\n",
       "      <td>702.0</td>\n",
       "      <td>1.85</td>\n",
       "      <td>0</td>\n",
       "      <td>7.7</td>\n",
       "    </tr>\n",
       "    <tr>\n",
       "      <th>4</th>\n",
       "      <td>Planet of the Apes</td>\n",
       "      <td>Color</td>\n",
       "      <td>Tim Burton</td>\n",
       "      <td>230.0</td>\n",
       "      <td>119.0</td>\n",
       "      <td>13000.0</td>\n",
       "      <td>567.0</td>\n",
       "      <td>Estella Warren</td>\n",
       "      <td>1000.0</td>\n",
       "      <td>180011740.0</td>\n",
       "      <td>...</td>\n",
       "      <td>1368.0</td>\n",
       "      <td>English</td>\n",
       "      <td>USA</td>\n",
       "      <td>PG-13</td>\n",
       "      <td>100000000.0</td>\n",
       "      <td>2001.0</td>\n",
       "      <td>658.0</td>\n",
       "      <td>2.35</td>\n",
       "      <td>0</td>\n",
       "      <td>5.7</td>\n",
       "    </tr>\n",
       "  </tbody>\n",
       "</table>\n",
       "<p>5 rows × 28 columns</p>\n",
       "</div>"
      ],
      "text/plain": [
       "                         movie_title  color   director_name  \\\n",
       "0                     Stuart Little   Color     Rob Minkoff   \n",
       "1                             Crash   Color     Paul Haggis   \n",
       "2  Ghost Rider: Spirit of Vengeance   Color  Mark Neveldine   \n",
       "3                        Gettysburg   Color     Ron Maxwell   \n",
       "4                Planet of the Apes   Color      Tim Burton   \n",
       "\n",
       "   num_critic_for_reviews  duration  director_facebook_likes  \\\n",
       "0                   101.0      84.0                     50.0   \n",
       "1                   287.0     115.0                    549.0   \n",
       "2                   287.0      96.0                     83.0   \n",
       "3                    22.0     271.0                     33.0   \n",
       "4                   230.0     119.0                  13000.0   \n",
       "\n",
       "   actor_3_facebook_likes             actor_2_name  actor_1_facebook_likes  \\\n",
       "0                   692.0              Nathan Lane                   979.0   \n",
       "1                   911.0           Loretta Devine                  3000.0   \n",
       "2                  1000.0          Spencer Wilding                 12000.0   \n",
       "3                   251.0  William Morgan Sheppard                   854.0   \n",
       "4                   567.0           Estella Warren                  1000.0   \n",
       "\n",
       "         gross    ...     num_user_for_reviews language  country  \\\n",
       "0  140015224.0    ...                    179.0  English  Germany   \n",
       "1   54557348.0    ...                   1624.0  English  Germany   \n",
       "2   51774002.0    ...                    331.0  English      USA   \n",
       "3   10769960.0    ...                    256.0  English      USA   \n",
       "4  180011740.0    ...                   1368.0  English      USA   \n",
       "\n",
       "   content_rating       budget  title_year actor_2_facebook_likes  \\\n",
       "0              PG  133000000.0      1999.0                  886.0   \n",
       "1               R    6500000.0      2004.0                  912.0   \n",
       "2           PG-13   57000000.0      2011.0                 1000.0   \n",
       "3              PG   25000000.0      1993.0                  702.0   \n",
       "4           PG-13  100000000.0      2001.0                  658.0   \n",
       "\n",
       "  aspect_ratio  movie_facebook_likes imdb_score  \n",
       "0         1.85                     0        5.9  \n",
       "1         2.35                 18000        7.9  \n",
       "2         2.35                 18000        4.3  \n",
       "3         1.85                     0        7.7  \n",
       "4         2.35                     0        5.7  \n",
       "\n",
       "[5 rows x 28 columns]"
      ]
     },
     "execution_count": 4,
     "metadata": {},
     "output_type": "execute_result"
    }
   ],
   "source": [
    "movies.head()"
   ]
  },
  {
   "cell_type": "code",
   "execution_count": 5,
   "metadata": {
    "collapsed": false
   },
   "outputs": [
    {
     "name": "stdout",
     "output_type": "stream",
     "text": [
      "color                       17\n",
      "director_name               95\n",
      "num_critic_for_reviews      46\n",
      "duration                    15\n",
      "director_facebook_likes     95\n",
      "actor_3_facebook_likes      20\n",
      "actor_2_name                12\n",
      "actor_1_facebook_likes       6\n",
      "gross                      758\n",
      "actor_1_name                 6\n",
      "actor_3_name                20\n",
      "facenumber_in_poster         9\n",
      "plot_keywords              133\n",
      "num_user_for_reviews        18\n",
      "language                    10\n",
      "country                      4\n",
      "content_rating             254\n",
      "budget                     431\n",
      "title_year                  99\n",
      "actor_2_facebook_likes      12\n",
      "aspect_ratio               279\n",
      "dtype: int64\n"
     ]
    }
   ],
   "source": [
    "# Obtain all the columns which have missing values and the number of missing values\n",
    "null_counts = movies.apply(lambda x: sum(x.isnull())) \n",
    "print(null_counts[null_counts!=0])\n"
   ]
  },
  {
   "cell_type": "code",
   "execution_count": 6,
   "metadata": {
    "collapsed": false
   },
   "outputs": [],
   "source": [
    "movies[movies['actor_1_name'].isnull()]\n",
    "movies[movies['actor_2_name'].isnull()]\n",
    "movies[movies['director_name'].isnull()]\n",
    "\n",
    "# There is no way to obtain names of actors and director from other values hence it is better to drop the correcponding rows.\n",
    "\n",
    "movies.dropna(subset =['actor_2_name','director_name','actor_3_name'],inplace =True)"
   ]
  },
  {
   "cell_type": "code",
   "execution_count": 7,
   "metadata": {
    "collapsed": false
   },
   "outputs": [
    {
     "name": "stdout",
     "output_type": "stream",
     "text": [
      "color                      13\n",
      "num_critic_for_reviews     37\n",
      "duration                   11\n",
      "gross                     659\n",
      "facenumber_in_poster        9\n",
      "plot_keywords             118\n",
      "num_user_for_reviews       12\n",
      "language                    7\n",
      "content_rating            210\n",
      "budget                    339\n",
      "title_year                  2\n",
      "aspect_ratio              255\n",
      "dtype: int64\n"
     ]
    }
   ],
   "source": [
    "# Now check again how many attributes have NaN values\n",
    "null_counts = movies.apply(lambda x: sum(x.isnull())) \n",
    "print(null_counts[null_counts!=0])"
   ]
  },
  {
   "cell_type": "code",
   "execution_count": 8,
   "metadata": {
    "collapsed": false
   },
   "outputs": [
    {
     "data": {
      "text/plain": [
       "(4188, 28)"
      ]
     },
     "execution_count": 8,
     "metadata": {},
     "output_type": "execute_result"
    }
   ],
   "source": [
    "movies.shape\n",
    "# We lost about 100 rows which accounts to about 2% loss in data. "
   ]
  },
  {
   "cell_type": "code",
   "execution_count": 9,
   "metadata": {
    "collapsed": false
   },
   "outputs": [
    {
     "data": {
      "text/plain": [
       "<matplotlib.axes._subplots.AxesSubplot at 0x153e214c0f0>"
      ]
     },
     "execution_count": 9,
     "metadata": {},
     "output_type": "execute_result"
    },
    {
     "data": {
      "image/png": "[encoded data removed]",
      "text/plain": [
       "<matplotlib.figure.Figure at 0x153e2123a58>"
      ]
     },
     "metadata": {},
     "output_type": "display_data"
    }
   ],
   "source": [
    "sns.boxplot(x = movies['color'], y = movies['title_year'])\n",
    "# There is a clear correlation between year and color. So we can fill in values for color by setting a threshold for year. "
   ]
  },
  {
   "cell_type": "code",
   "execution_count": 10,
   "metadata": {
    "collapsed": false
   },
   "outputs": [
    {
     "data": {
      "text/html": [
       "<div>\n",
       "<table border=\"1\" class=\"dataframe\">\n",
       "  <thead>\n",
       "    <tr style=\"text-align: right;\">\n",
       "      <th></th>\n",
       "      <th>movie_title</th>\n",
       "      <th>color</th>\n",
       "      <th>director_name</th>\n",
       "      <th>num_critic_for_reviews</th>\n",
       "      <th>duration</th>\n",
       "      <th>director_facebook_likes</th>\n",
       "      <th>actor_3_facebook_likes</th>\n",
       "      <th>actor_2_name</th>\n",
       "      <th>actor_1_facebook_likes</th>\n",
       "      <th>gross</th>\n",
       "      <th>...</th>\n",
       "      <th>num_user_for_reviews</th>\n",
       "      <th>language</th>\n",
       "      <th>country</th>\n",
       "      <th>content_rating</th>\n",
       "      <th>budget</th>\n",
       "      <th>title_year</th>\n",
       "      <th>actor_2_facebook_likes</th>\n",
       "      <th>aspect_ratio</th>\n",
       "      <th>movie_facebook_likes</th>\n",
       "      <th>imdb_score</th>\n",
       "    </tr>\n",
       "  </thead>\n",
       "  <tbody>\n",
       "    <tr>\n",
       "      <th>646</th>\n",
       "      <td>The Ridges</td>\n",
       "      <td>NaN</td>\n",
       "      <td>Brandon Landers</td>\n",
       "      <td>NaN</td>\n",
       "      <td>143.0</td>\n",
       "      <td>8.0</td>\n",
       "      <td>8.0</td>\n",
       "      <td>Alana Kaniewski</td>\n",
       "      <td>720.0</td>\n",
       "      <td>NaN</td>\n",
       "      <td>...</td>\n",
       "      <td>8.0</td>\n",
       "      <td>English</td>\n",
       "      <td>USA</td>\n",
       "      <td>NaN</td>\n",
       "      <td>17350.0</td>\n",
       "      <td>2011.0</td>\n",
       "      <td>19.0</td>\n",
       "      <td>NaN</td>\n",
       "      <td>33</td>\n",
       "      <td>3.0</td>\n",
       "    </tr>\n",
       "    <tr>\n",
       "      <th>882</th>\n",
       "      <td>Dear John</td>\n",
       "      <td>NaN</td>\n",
       "      <td>Lasse Hallström</td>\n",
       "      <td>162.0</td>\n",
       "      <td>108.0</td>\n",
       "      <td>529.0</td>\n",
       "      <td>690.0</td>\n",
       "      <td>Henry Thomas</td>\n",
       "      <td>17000.0</td>\n",
       "      <td>80014842.0</td>\n",
       "      <td>...</td>\n",
       "      <td>186.0</td>\n",
       "      <td>English</td>\n",
       "      <td>USA</td>\n",
       "      <td>PG-13</td>\n",
       "      <td>25000000.0</td>\n",
       "      <td>2010.0</td>\n",
       "      <td>861.0</td>\n",
       "      <td>2.35</td>\n",
       "      <td>14000</td>\n",
       "      <td>6.3</td>\n",
       "    </tr>\n",
       "    <tr>\n",
       "      <th>1213</th>\n",
       "      <td>Snow Flower and the Secret Fan</td>\n",
       "      <td>NaN</td>\n",
       "      <td>Wayne Wang</td>\n",
       "      <td>56.0</td>\n",
       "      <td>104.0</td>\n",
       "      <td>61.0</td>\n",
       "      <td>451.0</td>\n",
       "      <td>Russell Wong</td>\n",
       "      <td>974.0</td>\n",
       "      <td>1346503.0</td>\n",
       "      <td>...</td>\n",
       "      <td>22.0</td>\n",
       "      <td>English</td>\n",
       "      <td>China</td>\n",
       "      <td>PG-13</td>\n",
       "      <td>6000000.0</td>\n",
       "      <td>2011.0</td>\n",
       "      <td>595.0</td>\n",
       "      <td>2.35</td>\n",
       "      <td>0</td>\n",
       "      <td>6.1</td>\n",
       "    </tr>\n",
       "    <tr>\n",
       "      <th>1946</th>\n",
       "      <td>Alpha and Omega 4: The Legend of the Saw Tooth...</td>\n",
       "      <td>NaN</td>\n",
       "      <td>Richard Rich</td>\n",
       "      <td>2.0</td>\n",
       "      <td>45.0</td>\n",
       "      <td>24.0</td>\n",
       "      <td>29.0</td>\n",
       "      <td>Kate Higgins</td>\n",
       "      <td>122.0</td>\n",
       "      <td>NaN</td>\n",
       "      <td>...</td>\n",
       "      <td>6.0</td>\n",
       "      <td>NaN</td>\n",
       "      <td>USA</td>\n",
       "      <td>NaN</td>\n",
       "      <td>7000000.0</td>\n",
       "      <td>2014.0</td>\n",
       "      <td>35.0</td>\n",
       "      <td>NaN</td>\n",
       "      <td>41</td>\n",
       "      <td>6.0</td>\n",
       "    </tr>\n",
       "    <tr>\n",
       "      <th>2512</th>\n",
       "      <td>The Rise of the Krays</td>\n",
       "      <td>NaN</td>\n",
       "      <td>Zackary Adler</td>\n",
       "      <td>10.0</td>\n",
       "      <td>110.0</td>\n",
       "      <td>0.0</td>\n",
       "      <td>109.0</td>\n",
       "      <td>Kevin Leslie</td>\n",
       "      <td>490.0</td>\n",
       "      <td>NaN</td>\n",
       "      <td>...</td>\n",
       "      <td>26.0</td>\n",
       "      <td>English</td>\n",
       "      <td>UK</td>\n",
       "      <td>R</td>\n",
       "      <td>2500000.0</td>\n",
       "      <td>2015.0</td>\n",
       "      <td>159.0</td>\n",
       "      <td>NaN</td>\n",
       "      <td>0</td>\n",
       "      <td>5.0</td>\n",
       "    </tr>\n",
       "    <tr>\n",
       "      <th>2906</th>\n",
       "      <td>A Fine Step</td>\n",
       "      <td>NaN</td>\n",
       "      <td>Jonathan Meyers</td>\n",
       "      <td>1.0</td>\n",
       "      <td>111.0</td>\n",
       "      <td>0.0</td>\n",
       "      <td>426.0</td>\n",
       "      <td>Luke Perry</td>\n",
       "      <td>657.0</td>\n",
       "      <td>NaN</td>\n",
       "      <td>...</td>\n",
       "      <td>1.0</td>\n",
       "      <td>NaN</td>\n",
       "      <td>USA</td>\n",
       "      <td>PG</td>\n",
       "      <td>1000000.0</td>\n",
       "      <td>2014.0</td>\n",
       "      <td>608.0</td>\n",
       "      <td>NaN</td>\n",
       "      <td>212</td>\n",
       "      <td>5.3</td>\n",
       "    </tr>\n",
       "    <tr>\n",
       "      <th>3013</th>\n",
       "      <td>Something Wicked</td>\n",
       "      <td>NaN</td>\n",
       "      <td>Darin Scott</td>\n",
       "      <td>7.0</td>\n",
       "      <td>95.0</td>\n",
       "      <td>39.0</td>\n",
       "      <td>375.0</td>\n",
       "      <td>Shantel VanSanten</td>\n",
       "      <td>1000.0</td>\n",
       "      <td>NaN</td>\n",
       "      <td>...</td>\n",
       "      <td>15.0</td>\n",
       "      <td>English</td>\n",
       "      <td>USA</td>\n",
       "      <td>R</td>\n",
       "      <td>3000000.0</td>\n",
       "      <td>2014.0</td>\n",
       "      <td>747.0</td>\n",
       "      <td>NaN</td>\n",
       "      <td>395</td>\n",
       "      <td>4.8</td>\n",
       "    </tr>\n",
       "    <tr>\n",
       "      <th>3016</th>\n",
       "      <td>Into the Grizzly Maze</td>\n",
       "      <td>NaN</td>\n",
       "      <td>David Hackl</td>\n",
       "      <td>48.0</td>\n",
       "      <td>94.0</td>\n",
       "      <td>43.0</td>\n",
       "      <td>129.0</td>\n",
       "      <td>Michaela McManus</td>\n",
       "      <td>826.0</td>\n",
       "      <td>NaN</td>\n",
       "      <td>...</td>\n",
       "      <td>38.0</td>\n",
       "      <td>English</td>\n",
       "      <td>USA</td>\n",
       "      <td>R</td>\n",
       "      <td>10000000.0</td>\n",
       "      <td>2015.0</td>\n",
       "      <td>476.0</td>\n",
       "      <td>1.85</td>\n",
       "      <td>0</td>\n",
       "      <td>5.3</td>\n",
       "    </tr>\n",
       "    <tr>\n",
       "      <th>3105</th>\n",
       "      <td>Midnight Cabaret</td>\n",
       "      <td>NaN</td>\n",
       "      <td>Pece Dingo</td>\n",
       "      <td>1.0</td>\n",
       "      <td>94.0</td>\n",
       "      <td>0.0</td>\n",
       "      <td>87.0</td>\n",
       "      <td>Wilhelm von Homburg</td>\n",
       "      <td>156.0</td>\n",
       "      <td>NaN</td>\n",
       "      <td>...</td>\n",
       "      <td>4.0</td>\n",
       "      <td>English</td>\n",
       "      <td>USA</td>\n",
       "      <td>R</td>\n",
       "      <td>NaN</td>\n",
       "      <td>1990.0</td>\n",
       "      <td>102.0</td>\n",
       "      <td>NaN</td>\n",
       "      <td>4</td>\n",
       "      <td>4.5</td>\n",
       "    </tr>\n",
       "    <tr>\n",
       "      <th>3144</th>\n",
       "      <td>Red Sky</td>\n",
       "      <td>NaN</td>\n",
       "      <td>Mario Van Peebles</td>\n",
       "      <td>7.0</td>\n",
       "      <td>100.0</td>\n",
       "      <td>535.0</td>\n",
       "      <td>399.0</td>\n",
       "      <td>Mario Van Peebles</td>\n",
       "      <td>668.0</td>\n",
       "      <td>NaN</td>\n",
       "      <td>...</td>\n",
       "      <td>11.0</td>\n",
       "      <td>English</td>\n",
       "      <td>USA</td>\n",
       "      <td>PG-13</td>\n",
       "      <td>25000000.0</td>\n",
       "      <td>2014.0</td>\n",
       "      <td>535.0</td>\n",
       "      <td>NaN</td>\n",
       "      <td>437</td>\n",
       "      <td>4.1</td>\n",
       "    </tr>\n",
       "    <tr>\n",
       "      <th>3377</th>\n",
       "      <td>Freaky Deaky</td>\n",
       "      <td>NaN</td>\n",
       "      <td>Charles Matthau</td>\n",
       "      <td>13.0</td>\n",
       "      <td>90.0</td>\n",
       "      <td>139.0</td>\n",
       "      <td>1000.0</td>\n",
       "      <td>Michael Jai White</td>\n",
       "      <td>2000.0</td>\n",
       "      <td>NaN</td>\n",
       "      <td>...</td>\n",
       "      <td>11.0</td>\n",
       "      <td>English</td>\n",
       "      <td>USA</td>\n",
       "      <td>R</td>\n",
       "      <td>6000000.0</td>\n",
       "      <td>2012.0</td>\n",
       "      <td>2000.0</td>\n",
       "      <td>NaN</td>\n",
       "      <td>0</td>\n",
       "      <td>6.5</td>\n",
       "    </tr>\n",
       "    <tr>\n",
       "      <th>3808</th>\n",
       "      <td>Small Apartments</td>\n",
       "      <td>NaN</td>\n",
       "      <td>Jonas Åkerlund</td>\n",
       "      <td>33.0</td>\n",
       "      <td>96.0</td>\n",
       "      <td>68.0</td>\n",
       "      <td>722.0</td>\n",
       "      <td>Saffron Burrows</td>\n",
       "      <td>2000.0</td>\n",
       "      <td>NaN</td>\n",
       "      <td>...</td>\n",
       "      <td>26.0</td>\n",
       "      <td>English</td>\n",
       "      <td>USA</td>\n",
       "      <td>R</td>\n",
       "      <td>2000000.0</td>\n",
       "      <td>2012.0</td>\n",
       "      <td>811.0</td>\n",
       "      <td>1.85</td>\n",
       "      <td>0</td>\n",
       "      <td>6.1</td>\n",
       "    </tr>\n",
       "    <tr>\n",
       "      <th>4152</th>\n",
       "      <td>Kickboxer: Vengeance</td>\n",
       "      <td>NaN</td>\n",
       "      <td>John Stockwell</td>\n",
       "      <td>2.0</td>\n",
       "      <td>90.0</td>\n",
       "      <td>134.0</td>\n",
       "      <td>354.0</td>\n",
       "      <td>T.J. Storm</td>\n",
       "      <td>260000.0</td>\n",
       "      <td>NaN</td>\n",
       "      <td>...</td>\n",
       "      <td>1.0</td>\n",
       "      <td>NaN</td>\n",
       "      <td>USA</td>\n",
       "      <td>NaN</td>\n",
       "      <td>17000000.0</td>\n",
       "      <td>2016.0</td>\n",
       "      <td>454.0</td>\n",
       "      <td>NaN</td>\n",
       "      <td>0</td>\n",
       "      <td>9.1</td>\n",
       "    </tr>\n",
       "  </tbody>\n",
       "</table>\n",
       "<p>13 rows × 28 columns</p>\n",
       "</div>"
      ],
      "text/plain": [
       "                                            movie_title color  \\\n",
       "646                                         The Ridges    NaN   \n",
       "882                                          Dear John    NaN   \n",
       "1213                    Snow Flower and the Secret Fan    NaN   \n",
       "1946  Alpha and Omega 4: The Legend of the Saw Tooth...   NaN   \n",
       "2512                             The Rise of the Krays    NaN   \n",
       "2906                                       A Fine Step    NaN   \n",
       "3013                                  Something Wicked    NaN   \n",
       "3016                             Into the Grizzly Maze    NaN   \n",
       "3105                                  Midnight Cabaret    NaN   \n",
       "3144                                           Red Sky    NaN   \n",
       "3377                                      Freaky Deaky    NaN   \n",
       "3808                                  Small Apartments    NaN   \n",
       "4152                              Kickboxer: Vengeance    NaN   \n",
       "\n",
       "          director_name  num_critic_for_reviews  duration  \\\n",
       "646     Brandon Landers                     NaN     143.0   \n",
       "882     Lasse Hallström                   162.0     108.0   \n",
       "1213         Wayne Wang                    56.0     104.0   \n",
       "1946       Richard Rich                     2.0      45.0   \n",
       "2512      Zackary Adler                    10.0     110.0   \n",
       "2906    Jonathan Meyers                     1.0     111.0   \n",
       "3013        Darin Scott                     7.0      95.0   \n",
       "3016        David Hackl                    48.0      94.0   \n",
       "3105         Pece Dingo                     1.0      94.0   \n",
       "3144  Mario Van Peebles                     7.0     100.0   \n",
       "3377    Charles Matthau                    13.0      90.0   \n",
       "3808     Jonas Åkerlund                    33.0      96.0   \n",
       "4152     John Stockwell                     2.0      90.0   \n",
       "\n",
       "      director_facebook_likes  actor_3_facebook_likes         actor_2_name  \\\n",
       "646                       8.0                     8.0      Alana Kaniewski   \n",
       "882                     529.0                   690.0         Henry Thomas   \n",
       "1213                     61.0                   451.0         Russell Wong   \n",
       "1946                     24.0                    29.0         Kate Higgins   \n",
       "2512                      0.0                   109.0         Kevin Leslie   \n",
       "2906                      0.0                   426.0           Luke Perry   \n",
       "3013                     39.0                   375.0    Shantel VanSanten   \n",
       "3016                     43.0                   129.0     Michaela McManus   \n",
       "3105                      0.0                    87.0  Wilhelm von Homburg   \n",
       "3144                    535.0                   399.0    Mario Van Peebles   \n",
       "3377                    139.0                  1000.0    Michael Jai White   \n",
       "3808                     68.0                   722.0      Saffron Burrows   \n",
       "4152                    134.0                   354.0           T.J. Storm   \n",
       "\n",
       "      actor_1_facebook_likes       gross    ...     num_user_for_reviews  \\\n",
       "646                    720.0         NaN    ...                      8.0   \n",
       "882                  17000.0  80014842.0    ...                    186.0   \n",
       "1213                   974.0   1346503.0    ...                     22.0   \n",
       "1946                   122.0         NaN    ...                      6.0   \n",
       "2512                   490.0         NaN    ...                     26.0   \n",
       "2906                   657.0         NaN    ...                      1.0   \n",
       "3013                  1000.0         NaN    ...                     15.0   \n",
       "3016                   826.0         NaN    ...                     38.0   \n",
       "3105                   156.0         NaN    ...                      4.0   \n",
       "3144                   668.0         NaN    ...                     11.0   \n",
       "3377                  2000.0         NaN    ...                     11.0   \n",
       "3808                  2000.0         NaN    ...                     26.0   \n",
       "4152                260000.0         NaN    ...                      1.0   \n",
       "\n",
       "     language  country  content_rating      budget  title_year  \\\n",
       "646   English      USA             NaN     17350.0      2011.0   \n",
       "882   English      USA           PG-13  25000000.0      2010.0   \n",
       "1213  English    China           PG-13   6000000.0      2011.0   \n",
       "1946      NaN      USA             NaN   7000000.0      2014.0   \n",
       "2512  English       UK               R   2500000.0      2015.0   \n",
       "2906      NaN      USA              PG   1000000.0      2014.0   \n",
       "3013  English      USA               R   3000000.0      2014.0   \n",
       "3016  English      USA               R  10000000.0      2015.0   \n",
       "3105  English      USA               R         NaN      1990.0   \n",
       "3144  English      USA           PG-13  25000000.0      2014.0   \n",
       "3377  English      USA               R   6000000.0      2012.0   \n",
       "3808  English      USA               R   2000000.0      2012.0   \n",
       "4152      NaN      USA             NaN  17000000.0      2016.0   \n",
       "\n",
       "     actor_2_facebook_likes aspect_ratio  movie_facebook_likes imdb_score  \n",
       "646                    19.0          NaN                    33        3.0  \n",
       "882                   861.0         2.35                 14000        6.3  \n",
       "1213                  595.0         2.35                     0        6.1  \n",
       "1946                   35.0          NaN                    41        6.0  \n",
       "2512                  159.0          NaN                     0        5.0  \n",
       "2906                  608.0          NaN                   212        5.3  \n",
       "3013                  747.0          NaN                   395        4.8  \n",
       "3016                  476.0         1.85                     0        5.3  \n",
       "3105                  102.0          NaN                     4        4.5  \n",
       "3144                  535.0          NaN                   437        4.1  \n",
       "3377                 2000.0          NaN                     0        6.5  \n",
       "3808                  811.0         1.85                     0        6.1  \n",
       "4152                  454.0          NaN                     0        9.1  \n",
       "\n",
       "[13 rows x 28 columns]"
      ]
     },
     "execution_count": 10,
     "metadata": {},
     "output_type": "execute_result"
    }
   ],
   "source": [
    "movies[movies['color'].isnull()]"
   ]
  },
  {
   "cell_type": "code",
   "execution_count": 11,
   "metadata": {
    "collapsed": true
   },
   "outputs": [],
   "source": [
    "# All these movies were released after 1990  so they are most probably colour\n",
    "movies['color'].fillna('Color', inplace =True)"
   ]
  },
  {
   "cell_type": "code",
   "execution_count": 12,
   "metadata": {
    "collapsed": false
   },
   "outputs": [
    {
     "name": "stdout",
     "output_type": "stream",
     "text": [
      "num_critic_for_reviews     37\n",
      "duration                   11\n",
      "gross                     659\n",
      "facenumber_in_poster        9\n",
      "plot_keywords             118\n",
      "num_user_for_reviews       12\n",
      "language                    7\n",
      "content_rating            210\n",
      "budget                    339\n",
      "title_year                  2\n",
      "aspect_ratio              255\n",
      "dtype: int64\n"
     ]
    }
   ],
   "source": [
    "null_counts = movies.apply(lambda x: sum(x.isnull())) \n",
    "print(null_counts[null_counts!=0])"
   ]
  },
  {
   "cell_type": "code",
   "execution_count": 13,
   "metadata": {
    "collapsed": false
   },
   "outputs": [],
   "source": [
    "# Fill missing values with median/mean/mode values for some of the attributes whih either can not be determined in other ways\n",
    "movies['aspect_ratio'].fillna(2.35, inplace = True) #mode\n",
    "movies['title_year'].fillna(movies['title_year'].median(), inplace = True)\n",
    "movies['facenumber_in_poster'].fillna(movies['facenumber_in_poster'].median(), inplace = True)\n",
    "movies['language'].fillna('English', inplace = True) #mode\n",
    "movies['num_user_for_reviews'].fillna(movies['num_user_for_reviews'].median(), inplace = True)\n",
    "movies['duration'].fillna(movies['duration'].median(), inplace = True)"
   ]
  },
  {
   "cell_type": "code",
   "execution_count": 14,
   "metadata": {
    "collapsed": false
   },
   "outputs": [
    {
     "name": "stdout",
     "output_type": "stream",
     "text": [
      "num_critic_for_reviews     37\n",
      "gross                     659\n",
      "plot_keywords             118\n",
      "content_rating            210\n",
      "budget                    339\n",
      "dtype: int64\n"
     ]
    }
   ],
   "source": [
    "null_counts = movies.apply(lambda x: sum(x.isnull())) \n",
    "print(null_counts[null_counts!=0])"
   ]
  },
  {
   "cell_type": "code",
   "execution_count": 15,
   "metadata": {
    "collapsed": false
   },
   "outputs": [],
   "source": [
    "movies['num_critic_for_reviews'].fillna(0,inplace = True)\n",
    "movies['plot_keywords'].fillna('None',inplace = True)"
   ]
  },
  {
   "cell_type": "code",
   "execution_count": 16,
   "metadata": {
    "collapsed": false
   },
   "outputs": [],
   "source": [
    "movies['content_rating'].value_counts()\n",
    "movies['content_rating'].fillna('Not Rated', inplace = True)"
   ]
  },
  {
   "cell_type": "code",
   "execution_count": 17,
   "metadata": {
    "collapsed": false
   },
   "outputs": [
    {
     "name": "stdout",
     "output_type": "stream",
     "text": [
      "gross     659\n",
      "budget    339\n",
      "dtype: int64\n"
     ]
    }
   ],
   "source": [
    "null_counts = movies.apply(lambda x: sum(x.isnull())) \n",
    "print(null_counts[null_counts!=0])"
   ]
  },
  {
   "cell_type": "code",
   "execution_count": 18,
   "metadata": {
    "collapsed": false
   },
   "outputs": [
    {
     "data": {
      "text/plain": [
       "(4188, 28)"
      ]
     },
     "execution_count": 18,
     "metadata": {},
     "output_type": "execute_result"
    }
   ],
   "source": [
    "# gross and budget are attributes that could have a pretty high correlation with the imdb score.\n",
    "movies.shape"
   ]
  },
  {
   "cell_type": "code",
   "execution_count": 19,
   "metadata": {
    "collapsed": false
   },
   "outputs": [
    {
     "data": {
      "image/png": "[encoded data removed]",
      "text/plain": [
       "<matplotlib.figure.Figure at 0x153e177aa90>"
      ]
     },
     "metadata": {},
     "output_type": "display_data"
    }
   ],
   "source": [
    "sns.jointplot(x='imdb_score', y='budget', data=movies);"
   ]
  },
  {
   "cell_type": "code",
   "execution_count": 20,
   "metadata": {
    "collapsed": false
   },
   "outputs": [
    {
     "data": {
      "text/plain": [
       "Int64Index([3129], dtype='int64')"
      ]
     },
     "execution_count": 20,
     "metadata": {},
     "output_type": "execute_result"
    }
   ],
   "source": [
    "# There is a very evident outlier here. \n",
    "movies.reset_index\n",
    "maxbud = movies['budget'].max()\n",
    "movies.budget[movies.budget == maxbud].index"
   ]
  },
  {
   "cell_type": "code",
   "execution_count": 21,
   "metadata": {
    "collapsed": false
   },
   "outputs": [
    {
     "data": {
      "text/plain": [
       "'The Host\\xa0'"
      ]
     },
     "execution_count": 21,
     "metadata": {},
     "output_type": "execute_result"
    }
   ],
   "source": [
    "movies.loc[3129,:].movie_title"
   ]
  },
  {
   "cell_type": "code",
   "execution_count": 22,
   "metadata": {
    "collapsed": false
   },
   "outputs": [],
   "source": [
    "# On examining the movie, the budget given is not given in dollars! \n",
    "# The data for budget seems to be highly prone to inconsistencies. Also, the pearson correlaion value for this is very low (0.031) so it is probably best to drop this column\n",
    "movies.drop(['budget'],axis=1, inplace =True)"
   ]
  },
  {
   "cell_type": "code",
   "execution_count": 23,
   "metadata": {
    "collapsed": false
   },
   "outputs": [
    {
     "data": {
      "text/plain": [
       "movie_title                   object\n",
       "color                         object\n",
       "director_name                 object\n",
       "num_critic_for_reviews       float64\n",
       "duration                     float64\n",
       "director_facebook_likes      float64\n",
       "actor_3_facebook_likes       float64\n",
       "actor_2_name                  object\n",
       "actor_1_facebook_likes       float64\n",
       "gross                        float64\n",
       "genres                        object\n",
       "actor_1_name                  object\n",
       "num_voted_users                int64\n",
       "cast_total_facebook_likes      int64\n",
       "actor_3_name                  object\n",
       "facenumber_in_poster         float64\n",
       "plot_keywords                 object\n",
       "movie_imdb_link               object\n",
       "num_user_for_reviews         float64\n",
       "language                      object\n",
       "country                       object\n",
       "content_rating                object\n",
       "title_year                   float64\n",
       "actor_2_facebook_likes       float64\n",
       "aspect_ratio                 float64\n",
       "movie_facebook_likes           int64\n",
       "imdb_score                   float64\n",
       "dtype: object"
      ]
     },
     "execution_count": 23,
     "metadata": {},
     "output_type": "execute_result"
    }
   ],
   "source": [
    "movies.dtypes"
   ]
  },
  {
   "cell_type": "code",
   "execution_count": 24,
   "metadata": {
    "collapsed": false
   },
   "outputs": [],
   "source": [
    "scores = movies.pop('imdb_score')"
   ]
  },
  {
   "cell_type": "code",
   "execution_count": 25,
   "metadata": {
    "collapsed": true
   },
   "outputs": [],
   "source": [
    "# Identification of skewed distributions in columns\n",
    "from scipy.stats import skew\n",
    "numerical_variables = movies.dtypes[movies.dtypes != 'object'].index\n",
    "\n",
    "skewed = movies[numerical_variables].apply(lambda x: skew(x.dropna().astype(float)))\n",
    "# Using skew threshold of 0.75\n",
    "skewed = skewed[skewed>0.75]\n",
    "skewed = skewed.index"
   ]
  },
  {
   "cell_type": "code",
   "execution_count": 26,
   "metadata": {
    "collapsed": false
   },
   "outputs": [
    {
     "data": {
      "text/plain": [
       "Index(['num_critic_for_reviews', 'duration', 'director_facebook_likes',\n",
       "       'actor_3_facebook_likes', 'actor_1_facebook_likes', 'gross',\n",
       "       'num_voted_users', 'cast_total_facebook_likes', 'facenumber_in_poster',\n",
       "       'num_user_for_reviews', 'actor_2_facebook_likes', 'aspect_ratio',\n",
       "       'movie_facebook_likes'],\n",
       "      dtype='object')"
      ]
     },
     "execution_count": 26,
     "metadata": {},
     "output_type": "execute_result"
    }
   ],
   "source": [
    "skewed"
   ]
  },
  {
   "cell_type": "code",
   "execution_count": 27,
   "metadata": {
    "collapsed": true
   },
   "outputs": [],
   "source": [
    "# Treating skewed columns with log(1+ val)\n",
    "movies[skewed] = np.log1p(movies[skewed])"
   ]
  },
  {
   "cell_type": "code",
   "execution_count": 28,
   "metadata": {
    "collapsed": true
   },
   "outputs": [],
   "source": [
    "movies['imdb_score'] = scores"
   ]
  },
  {
   "cell_type": "code",
   "execution_count": 29,
   "metadata": {
    "collapsed": false
   },
   "outputs": [
    {
     "data": {
      "text/plain": [
       "movie_title                   object\n",
       "color                         object\n",
       "director_name                 object\n",
       "num_critic_for_reviews       float64\n",
       "duration                     float64\n",
       "director_facebook_likes      float64\n",
       "actor_3_facebook_likes       float64\n",
       "actor_2_name                  object\n",
       "actor_1_facebook_likes       float64\n",
       "gross                        float64\n",
       "genres                        object\n",
       "actor_1_name                  object\n",
       "num_voted_users              float64\n",
       "cast_total_facebook_likes    float64\n",
       "actor_3_name                  object\n",
       "facenumber_in_poster         float64\n",
       "plot_keywords                 object\n",
       "movie_imdb_link               object\n",
       "num_user_for_reviews         float64\n",
       "language                      object\n",
       "country                       object\n",
       "content_rating                object\n",
       "title_year                   float64\n",
       "actor_2_facebook_likes       float64\n",
       "aspect_ratio                 float64\n",
       "movie_facebook_likes         float64\n",
       "imdb_score                   float64\n",
       "dtype: object"
      ]
     },
     "execution_count": 29,
     "metadata": {},
     "output_type": "execute_result"
    }
   ],
   "source": [
    "movies.dtypes"
   ]
  },
  {
   "cell_type": "code",
   "execution_count": 30,
   "metadata": {
    "collapsed": false
   },
   "outputs": [],
   "source": [
    "# Getting dummies for categorical columns\n",
    "color_dummies= pd.get_dummies(movies.color)\n",
    "movies = pd.concat([movies, color_dummies], axis =1 )\n",
    "\n",
    "genre_dummies= pd.get_dummies(movies.genres)\n",
    "movies = pd.concat([movies, genre_dummies], axis =1 )\n",
    "\n",
    "language_dummies= pd.get_dummies(movies.language)\n",
    "movies = pd.concat([movies, language_dummies], axis =1 )\n"
   ]
  },
  {
   "cell_type": "code",
   "execution_count": 31,
   "metadata": {
    "collapsed": false
   },
   "outputs": [
    {
     "data": {
      "text/plain": [
       "0    http://www.imdb.com/title/tt0164912/?ref_=fn_t...\n",
       "1    http://www.imdb.com/title/tt0375679/?ref_=fn_t...\n",
       "2    http://www.imdb.com/title/tt1071875/?ref_=fn_t...\n",
       "3    http://www.imdb.com/title/tt0107007/?ref_=fn_t...\n",
       "4    http://www.imdb.com/title/tt0133152/?ref_=fn_t...\n",
       "Name: movie_imdb_link, dtype: object"
      ]
     },
     "execution_count": 31,
     "metadata": {},
     "output_type": "execute_result"
    }
   ],
   "source": [
    "country_dummies= pd.get_dummies(movies.country)\n",
    "movies = pd.concat([movies, country_dummies], axis =1 )\n",
    "\n",
    "content_dummies= pd.get_dummies(movies.content_rating)\n",
    "movies = pd.concat([movies, content_dummies], axis =1 )\n",
    "\n",
    "movies['movie_imdb_link'].head()"
   ]
  },
  {
   "cell_type": "code",
   "execution_count": 32,
   "metadata": {
    "collapsed": false
   },
   "outputs": [],
   "source": [
    "movies.index = range(len(movies.movie_title))"
   ]
  },
  {
   "cell_type": "code",
   "execution_count": 33,
   "metadata": {
    "collapsed": false
   },
   "outputs": [],
   "source": [
    "# Imputing values for gross by using a linear model \n",
    "from sklearn.linear_model import LinearRegression\n",
    "linreg = LinearRegression()\n",
    "prediction_movies = movies.loc[:, movies.dtypes != object]"
   ]
  },
  {
   "cell_type": "code",
   "execution_count": 34,
   "metadata": {
    "collapsed": false
   },
   "outputs": [],
   "source": [
    "# Splitting dataset into 2 parts. One which has values for gross and one missing values for gross\n",
    "withoutgross = prediction_movies[prediction_movies['gross'].isnull()]\n",
    "withgross = prediction_movies.drop(prediction_movies.index[withoutgross.index], axis =0)"
   ]
  },
  {
   "cell_type": "code",
   "execution_count": 35,
   "metadata": {
    "collapsed": false
   },
   "outputs": [],
   "source": [
    "y_train = withgross['gross']\n",
    "withgross.pop('gross')\n",
    "X_train = withgross"
   ]
  },
  {
   "cell_type": "code",
   "execution_count": 36,
   "metadata": {
    "collapsed": false
   },
   "outputs": [],
   "source": [
    "withoutgross.pop('gross')\n",
    "X_test = withoutgross"
   ]
  },
  {
   "cell_type": "code",
   "execution_count": 37,
   "metadata": {
    "collapsed": false
   },
   "outputs": [],
   "source": [
    "y_train = y_train.reshape((3529,1))"
   ]
  },
  {
   "cell_type": "code",
   "execution_count": 38,
   "metadata": {
    "collapsed": false
   },
   "outputs": [
    {
     "data": {
      "text/plain": [
       "LinearRegression(copy_X=True, fit_intercept=True, n_jobs=1, normalize=False)"
      ]
     },
     "execution_count": 38,
     "metadata": {},
     "output_type": "execute_result"
    }
   ],
   "source": [
    "# Fit basic linear model. Hyperparameters need not be tuned\n",
    "linreg.fit(X_train,y_train)"
   ]
  },
  {
   "cell_type": "code",
   "execution_count": 39,
   "metadata": {
    "collapsed": false
   },
   "outputs": [],
   "source": [
    "# Obtain values for gross\n",
    "y_test = linreg.predict(X_test)"
   ]
  },
  {
   "cell_type": "code",
   "execution_count": 40,
   "metadata": {
    "collapsed": false
   },
   "outputs": [
    {
     "name": "stderr",
     "output_type": "stream",
     "text": [
      "C:\\Users\\akhil\\Anaconda3\\lib\\site-packages\\ipykernel\\__main__.py:1: SettingWithCopyWarning: \n",
      "A value is trying to be set on a copy of a slice from a DataFrame.\n",
      "Try using .loc[row_indexer,col_indexer] = value instead\n",
      "\n",
      "See the caveats in the documentation: http://pandas.pydata.org/pandas-docs/stable/indexing.html#indexing-view-versus-copy\n",
      "  if __name__ == '__main__':\n"
     ]
    }
   ],
   "source": [
    "withoutgross['gross'] = y_test"
   ]
  },
  {
   "cell_type": "code",
   "execution_count": 41,
   "metadata": {
    "collapsed": false
   },
   "outputs": [],
   "source": [
    "withgross['gross'] = y_train"
   ]
  },
  {
   "cell_type": "code",
   "execution_count": 42,
   "metadata": {
    "collapsed": false
   },
   "outputs": [
    {
     "data": {
      "text/plain": [
       "(659, 936)"
      ]
     },
     "execution_count": 42,
     "metadata": {},
     "output_type": "execute_result"
    }
   ],
   "source": [
    "withoutgross.shape"
   ]
  },
  {
   "cell_type": "code",
   "execution_count": 43,
   "metadata": {
    "collapsed": false
   },
   "outputs": [
    {
     "data": {
      "text/plain": [
       "(3529, 936)"
      ]
     },
     "execution_count": 43,
     "metadata": {},
     "output_type": "execute_result"
    }
   ],
   "source": [
    "withgross.shape"
   ]
  },
  {
   "cell_type": "code",
   "execution_count": 44,
   "metadata": {
    "collapsed": false
   },
   "outputs": [],
   "source": [
    "# Combine the dataframes\n",
    "frames = [withgross, withoutgross]\n",
    "movies = pd.concat(frames)"
   ]
  },
  {
   "cell_type": "code",
   "execution_count": null,
   "metadata": {
    "collapsed": true
   },
   "outputs": [],
   "source": [
    "# Save final dataset to file as new csv\n",
    "movies.to_csv('movies_final_dataset.csv')"
   ]
  },
  {
   "cell_type": "code",
   "execution_count": null,
   "metadata": {
    "collapsed": true
   },
   "outputs": [],
   "source": [
    "#maybe extract top 20 words and create dummies "
   ]
  },
  {
   "cell_type": "code",
   "execution_count": null,
   "metadata": {
    "collapsed": true
   },
   "outputs": [],
   "source": []
  },
  {
   "cell_type": "code",
   "execution_count": null,
   "metadata": {
    "collapsed": true
   },
   "outputs": [],
   "source": []
  }
 ],
 "metadata": {
  "anaconda-cloud": {},
  "kernelspec": {
   "display_name": "Python [Root]",
   "language": "python",
   "name": "Python [Root]"
  },
  "language_info": {
   "codemirror_mode": {
    "name": "ipython",
    "version": 3
   },
   "file_extension": ".py",
   "mimetype": "text/x-python",
   "name": "python",
   "nbconvert_exporter": "python",
   "pygments_lexer": "ipython3",
   "version": "3.5.2"
  }
 },
 "nbformat": 4,
 "nbformat_minor": 0
}
